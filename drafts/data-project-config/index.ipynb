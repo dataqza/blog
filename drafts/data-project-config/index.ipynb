{
  "cells": [
    {
      "cell_type": "raw",
      "metadata": {},
      "source": [
        "---\n",
        "title: \"Configuration for Python Data Projects\"\n",
        "subtitle: \"Using Pydantic's BaseSettings\"\n",
        "author: \"Ian Rogers\"\n",
        "date: \"2023-01-07\"\n",
        "categories: [Python, Data Analytics, Snippets]\n",
        "---"
      ],
      "id": "4e1560ba"
    },
    {
      "cell_type": "markdown",
      "metadata": {},
      "source": [
        "- Scenarios: development, production, notebooks\n",
        "- Single point to access to access with code completion of IDE\n",
        "- Set at run time for example CLI\n",
        "\n",
        "Project structure\n",
        "\n",
        "```\n",
        "./\n",
        "├── src/\n",
        "│   ├── services/\n",
        "│   │   └── client.py\n",
        "│   └── __init__.py\n",
        "```\n"
      ],
      "id": "38531964"
    },
    {
      "cell_type": "code",
      "metadata": {},
      "source": [
        "import logging\n",
        "from enum import Enum\n",
        "from pathlib import Path\n",
        "\n",
        "from pydantic import BaseSettings, validator\n",
        "from sqlalchemy.engine import Engine\n",
        "from sqlalchemy import create_engine\n",
        "\n",
        "from src import PROJECT_DIR\n",
        "\n",
        "\n",
        "logger = logging.getLogger(__name__)\n",
        "configure_logging(logger)\n",
        "\n",
        "\n",
        "class Environment(str, Enum):\n",
        "    DEV = \"dev\"\n",
        "    PROD = \"prod\"\n",
        "\n",
        "\n",
        "class Settings(BaseSettings):\n",
        "\n",
        "    SQLALCHEMY_URI: str\n",
        "\n",
        "    _engine: Engine = None\n",
        "\n",
        "    @property\n",
        "    def engine(self) -> Engine:\n",
        "        if self._engine is None:\n",
        "            self._engine = get_engine(self.SQLALCHEMY_URI)\n",
        "        return self._engine\n",
        "\n",
        "    class Config:\n",
        "        env_file = PROJECT_DIR / \".env\"\n",
        "        underscore_attrs_are_private = True"
      ],
      "id": "ca02406c",
      "execution_count": null,
      "outputs": []
    }
  ],
  "metadata": {
    "kernelspec": {
      "name": "python3",
      "language": "python",
      "display_name": "Python 3 (ipykernel)"
    }
  },
  "nbformat": 4,
  "nbformat_minor": 5
}