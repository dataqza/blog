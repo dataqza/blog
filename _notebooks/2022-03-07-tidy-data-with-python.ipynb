{
 "cells": [
  {
   "cell_type": "markdown",
   "metadata": {},
   "source": [
    "# Tidy Data with Python\n",
    "> A top-down approach on how to ‘Marie Kondo’ your data sets\n",
    "\n",
    "- toc: true \n",
    "- badges: false\n",
    "- comments: true\n",
    "- categories: [jupyter]\n",
    "- image: images/chart-preview.png\n",
    "- hide: true\n",
    "- search_exclude: true"
   ]
  },
  {
   "cell_type": "markdown",
   "metadata": {},
   "source": [
    "A top-down approach on how to ‘Marie Kondo’ your data sets into Hadley Wickham's definition of tidy data by introducing pandas and using it’s functionality to introduce Python. \n",
    "\n",
    "\n",
    "<blockquote>“Tidy datasets and tidy tools work hand in hand to make data analysis easier, allowing you to focus on the interesting domain problem, not on the uninteresting logistics of data.”\n",
    "- Hadley Wickham, Fellow of the American Statistical Association </blockquote>\n",
    "\n",
    "\n",
    "Marie Kondo famously asks us to clean our homes/spaces, discarding things that do not bring us joy and treasuring things that do. Hadley Wickham’s papers shows us how to translate that philosophy into messy datasets, and create ones that instead of bringing panic, bring joy. Tidy data has become the standard format for science and business because it allows people to easily turn a data table into graphs, analysis and insight. \n",
    "\n",
    "\n",
    "The big advantage of Tidy Data is that it makes a clear distinction between a variable, an observation and a value. In this way, all data is standardised which makes it easier to collaborate on. Whether thinking about collaborators as your current colleagues, your future self, or future peers, organising and sharing data in a consistent and predictable way means less adjustment, time, and effort for all. \n",
    "\n",
    "\n",
    "The purpose of this repository is to help users coming from Excel, to create tidy data sets using Pandas by working through examples that deal with various messy datasets used in Wickham’s paper. Through the process of reading messy data, processing into tidy data and then performing basic analysis, it will also help with general better practice for data management. \n",
    "\n",
    "\n",
    "Hopefully, this repo will help you become more equipped to wrangle your data into a tidy format, so you can get to your analyses faster to start answering the questions you’re asking. \n",
    "\n",
    "\n",
    "### What is Tidy Data?\n",
    "\n",
    "\n",
    "According to Wickham, in a tidy data set, every column is a variable, every row is an observation and every cell is a single value.\n",
    "\n",
    "![](tidy_data_with_python/2022-02-18-14-20-35.png)\n",
    "\n",
    "Messy datasets, by extension, violate these 3 rules in some way. The five most common problems are:\n",
    "1.  Column headers are values, not variable names. \n",
    "2.  Multiple variables are stored in one column.  \n",
    "3.  Variables are stored in both rows and columns. \n",
    "4.  Multiple types of observational units are stored in the same table. \n",
    "5.  A single observational unit is stored in multiple tables.\n",
    "\n",
    "\n",
    "Essentially, we want to take a wide dataset and transform it into a long one. Consider the following table.\n",
    "\n",
    "\n",
    "| Name | Treatment A | Treatment B |\n",
    "| --- | --- | --- |\n",
    "| John Smith |  - | 2 | \n",
    "| Jane Doe | 16 | 11 |\n",
    "| Mary Johnson | 3 | 1 | \n",
    "\n",
    "The information has been presented in a common way, however, it could be reorganised making the value, variables and observation more clear, as seen below. \n",
    "\n",
    "| Name | Treatment | Value |\n",
    "| --- | --- | --- |\n",
    "| John Smith |  A | - | \n",
    "| John Smith |  B | 2 | \n",
    "| Jane Doe | A | 16 |\n",
    "| Jane Doe | B | 11 |\n",
    "| Mary Johnson | A | 3 | \n",
    "| Mary Johnson | B | 1 |\n",
    "\n",
    "## 'Cleaning' tools\n",
    "\n",
    "The ‘cleaning’ tools we use to deal with these violations are:\n",
    "-\tMelting/Unpivoting (changing columns into rows)\n",
    "-\tCasting/Unstack (changing rows to columns)\n",
    "-\tString manipulation\n",
    "-\tSplitting\n",
    "-\tRegular expressions\n",
    "\n",
    "### Melting \n",
    "Pandas.melt() unpivots a DataFrame from wide format to long format. \n",
    "An example of melting using pandas can be seen below. "
   ]
  },
  {
   "cell_type": "code",
   "execution_count": 3,
   "metadata": {},
   "outputs": [
    {
     "data": {
      "text/html": [
       "<div>\n",
       "<style scoped>\n",
       "    .dataframe tbody tr th:only-of-type {\n",
       "        vertical-align: middle;\n",
       "    }\n",
       "\n",
       "    .dataframe tbody tr th {\n",
       "        vertical-align: top;\n",
       "    }\n",
       "\n",
       "    .dataframe thead th {\n",
       "        text-align: right;\n",
       "    }\n",
       "</style>\n",
       "<table border=\"1\" class=\"dataframe\">\n",
       "  <thead>\n",
       "    <tr style=\"text-align: right;\">\n",
       "      <th></th>\n",
       "      <th>Name</th>\n",
       "      <th>Course</th>\n",
       "      <th>Age</th>\n",
       "    </tr>\n",
       "  </thead>\n",
       "  <tbody>\n",
       "    <tr>\n",
       "      <th>0</th>\n",
       "      <td>Jennifer</td>\n",
       "      <td>Honours</td>\n",
       "      <td>35</td>\n",
       "    </tr>\n",
       "    <tr>\n",
       "      <th>1</th>\n",
       "      <td>Susan</td>\n",
       "      <td>Doctorate</td>\n",
       "      <td>41</td>\n",
       "    </tr>\n",
       "    <tr>\n",
       "      <th>2</th>\n",
       "      <td>Tami</td>\n",
       "      <td>Graduate</td>\n",
       "      <td>32</td>\n",
       "    </tr>\n",
       "  </tbody>\n",
       "</table>\n",
       "</div>"
      ],
      "text/plain": [
       "       Name     Course  Age\n",
       "0  Jennifer    Honours   35\n",
       "1     Susan  Doctorate   41\n",
       "2      Tami   Graduate   32"
      ]
     },
     "execution_count": 3,
     "metadata": {},
     "output_type": "execute_result"
    }
   ],
   "source": [
    "# importing pandas as pd\n",
    "import pandas as pd\n",
    "  \n",
    "# creating a dataframe\n",
    "df = pd.DataFrame({'Name': {0: 'Jennifer', 1: 'Susan', 2: 'Tami'},\n",
    "                   'Course': {0: 'Honours', 1: 'Doctorate', 2: 'Graduate'},\n",
    "                   'Age': {0: 35, 1: 41, 2: 32}})\n",
    "df"
   ]
  },
  {
   "cell_type": "code",
   "execution_count": 2,
   "metadata": {},
   "outputs": [
    {
     "data": {
      "text/html": [
       "<div>\n",
       "<style scoped>\n",
       "    .dataframe tbody tr th:only-of-type {\n",
       "        vertical-align: middle;\n",
       "    }\n",
       "\n",
       "    .dataframe tbody tr th {\n",
       "        vertical-align: top;\n",
       "    }\n",
       "\n",
       "    .dataframe thead th {\n",
       "        text-align: right;\n",
       "    }\n",
       "</style>\n",
       "<table border=\"1\" class=\"dataframe\">\n",
       "  <thead>\n",
       "    <tr style=\"text-align: right;\">\n",
       "      <th></th>\n",
       "      <th>Name</th>\n",
       "      <th>variable</th>\n",
       "      <th>value</th>\n",
       "    </tr>\n",
       "  </thead>\n",
       "  <tbody>\n",
       "    <tr>\n",
       "      <th>0</th>\n",
       "      <td>Jennifer</td>\n",
       "      <td>Course</td>\n",
       "      <td>Masters</td>\n",
       "    </tr>\n",
       "    <tr>\n",
       "      <th>1</th>\n",
       "      <td>Susan</td>\n",
       "      <td>Course</td>\n",
       "      <td>Graduate</td>\n",
       "    </tr>\n",
       "    <tr>\n",
       "      <th>2</th>\n",
       "      <td>Tami</td>\n",
       "      <td>Course</td>\n",
       "      <td>Graduate</td>\n",
       "    </tr>\n",
       "  </tbody>\n",
       "</table>\n",
       "</div>"
      ],
      "text/plain": [
       "       Name variable     value\n",
       "0  Jennifer   Course   Masters\n",
       "1     Susan   Course  Graduate\n",
       "2      Tami   Course  Graduate"
      ]
     },
     "execution_count": 2,
     "metadata": {},
     "output_type": "execute_result"
    }
   ],
   "source": [
    "# Name is id_vars and Course is value_vars\n",
    "pd.melt(df, id_vars =['Name'], value_vars =['Course'])"
   ]
  },
  {
   "cell_type": "markdown",
   "metadata": {},
   "source": [
    "### Unstacking\n",
    "Pandas Unstack is a function that pivots the level of the indexed columns in a stacked dataframe. A stacked dataframe is usually a result of an aggregated groupby function in pandas. Stack() sets the columns to a new level of hierarchy whereas Unstack() pivots the indexed column.\n",
    "An example of unstacking using pandas can be seen below. "
   ]
  },
  {
   "cell_type": "code",
   "execution_count": 9,
   "metadata": {},
   "outputs": [
    {
     "data": {
      "text/html": [
       "<div>\n",
       "<style scoped>\n",
       "    .dataframe tbody tr th:only-of-type {\n",
       "        vertical-align: middle;\n",
       "    }\n",
       "\n",
       "    .dataframe tbody tr th {\n",
       "        vertical-align: top;\n",
       "    }\n",
       "\n",
       "    .dataframe thead th {\n",
       "        text-align: right;\n",
       "    }\n",
       "</style>\n",
       "<table border=\"1\" class=\"dataframe\">\n",
       "  <thead>\n",
       "    <tr style=\"text-align: right;\">\n",
       "      <th></th>\n",
       "      <th>cars</th>\n",
       "      <th>sales_jan</th>\n",
       "      <th>sales_feb</th>\n",
       "    </tr>\n",
       "  </thead>\n",
       "  <tbody>\n",
       "    <tr>\n",
       "      <th>0</th>\n",
       "      <td>VW</td>\n",
       "      <td>20</td>\n",
       "      <td>11</td>\n",
       "    </tr>\n",
       "    <tr>\n",
       "      <th>1</th>\n",
       "      <td>VW</td>\n",
       "      <td>22</td>\n",
       "      <td>13</td>\n",
       "    </tr>\n",
       "    <tr>\n",
       "      <th>2</th>\n",
       "      <td>Renault</td>\n",
       "      <td>24</td>\n",
       "      <td>15</td>\n",
       "    </tr>\n",
       "    <tr>\n",
       "      <th>3</th>\n",
       "      <td>Renault</td>\n",
       "      <td>26</td>\n",
       "      <td>17</td>\n",
       "    </tr>\n",
       "  </tbody>\n",
       "</table>\n",
       "</div>"
      ],
      "text/plain": [
       "      cars  sales_jan  sales_feb\n",
       "0       VW         20         11\n",
       "1       VW         22         13\n",
       "2  Renault         24         15\n",
       "3  Renault         26         17"
      ]
     },
     "execution_count": 9,
     "metadata": {},
     "output_type": "execute_result"
    }
   ],
   "source": [
    "# import the python pandas package\n",
    "import pandas as pd\n",
    " \n",
    "# create a sample dataframe\n",
    "df = pd.DataFrame({\"cars\": [\"VW\", \"VW\", \"Renault\", \"Renault\"],\n",
    "                     \"sales_jan\": [20, 22, 24, 26],\n",
    "                     \"sales_feb\": [11, 13, 15, 17]},\n",
    "                    columns=[\"cars\", \"sales_jan\",\n",
    "                             'sales_feb'])\n",
    "df"
   ]
  },
  {
   "cell_type": "code",
   "execution_count": 10,
   "metadata": {},
   "outputs": [
    {
     "data": {
      "text/html": [
       "<div>\n",
       "<style scoped>\n",
       "    .dataframe tbody tr th:only-of-type {\n",
       "        vertical-align: middle;\n",
       "    }\n",
       "\n",
       "    .dataframe tbody tr th {\n",
       "        vertical-align: top;\n",
       "    }\n",
       "\n",
       "    .dataframe thead tr th {\n",
       "        text-align: left;\n",
       "    }\n",
       "\n",
       "    .dataframe thead tr:last-of-type th {\n",
       "        text-align: right;\n",
       "    }\n",
       "</style>\n",
       "<table border=\"1\" class=\"dataframe\">\n",
       "  <thead>\n",
       "    <tr>\n",
       "      <th></th>\n",
       "      <th colspan=\"2\" halign=\"left\">sales_jan</th>\n",
       "      <th colspan=\"2\" halign=\"left\">sales_feb</th>\n",
       "    </tr>\n",
       "    <tr>\n",
       "      <th></th>\n",
       "      <th>sum</th>\n",
       "      <th>max</th>\n",
       "      <th>sum</th>\n",
       "      <th>min</th>\n",
       "    </tr>\n",
       "    <tr>\n",
       "      <th>cars</th>\n",
       "      <th></th>\n",
       "      <th></th>\n",
       "      <th></th>\n",
       "      <th></th>\n",
       "    </tr>\n",
       "  </thead>\n",
       "  <tbody>\n",
       "    <tr>\n",
       "      <th>Renault</th>\n",
       "      <td>50</td>\n",
       "      <td>26</td>\n",
       "      <td>32</td>\n",
       "      <td>15</td>\n",
       "    </tr>\n",
       "    <tr>\n",
       "      <th>VW</th>\n",
       "      <td>42</td>\n",
       "      <td>22</td>\n",
       "      <td>24</td>\n",
       "      <td>11</td>\n",
       "    </tr>\n",
       "  </tbody>\n",
       "</table>\n",
       "</div>"
      ],
      "text/plain": [
       "        sales_jan     sales_feb    \n",
       "              sum max       sum min\n",
       "cars                               \n",
       "Renault        50  26        32  15\n",
       "VW             42  22        24  11"
      ]
     },
     "execution_count": 10,
     "metadata": {},
     "output_type": "execute_result"
    }
   ],
   "source": [
    "# aggregate the car sales data by sum min\n",
    "# and max sales of two quarters as shown\n",
    "grouped_df = df.groupby('cars').agg(\n",
    "    {\"sales_jan\": [sum, max],\n",
    "     \"sales_feb\": [sum, min]})\n",
    "grouped_df"
   ]
  },
  {
   "cell_type": "code",
   "execution_count": 16,
   "metadata": {},
   "outputs": [
    {
     "data": {
      "text/plain": [
       "                cars   \n",
       "sales_jan  sum  Renault    50\n",
       "                VW         42\n",
       "           max  Renault    26\n",
       "                VW         22\n",
       "sales_feb  sum  Renault    32\n",
       "                VW         24\n",
       "           min  Renault    15\n",
       "                VW         11\n",
       "dtype: int64"
      ]
     },
     "execution_count": 16,
     "metadata": {},
     "output_type": "execute_result"
    }
   ],
   "source": [
    "# Unstacking the grouped dataframe\n",
    "grouped_df.unstack()"
   ]
  },
  {
   "cell_type": "markdown",
   "metadata": {},
   "source": [
    "### String Manipulation\n",
    "String manipulation is the process of changing, parsing, splicing, pasting, or analyzing strings. Sometimes, data in the string is not suitable for manipulating the analysis or get a description of the data. \n",
    "There are many applications of string manipulation, below is a quick example of how to change the data type to string."
   ]
  },
  {
   "cell_type": "code",
   "execution_count": 17,
   "metadata": {},
   "outputs": [
    {
     "data": {
      "text/plain": [
       "0    Amanda\n",
       "1       Bob\n",
       "2    Claire\n",
       "3     Devon\n",
       "4      Evan\n",
       "5       NaN\n",
       "6      Fred\n",
       "dtype: object"
      ]
     },
     "execution_count": 17,
     "metadata": {},
     "output_type": "execute_result"
    }
   ],
   "source": [
    "# Importing the necessary libraries\n",
    "import pandas as pd\n",
    "import numpy as np\n",
    "  \n",
    "# Creating a df\n",
    "df = pd.Series(['Amanda', 'Bob', 'Claire', 'Devon', 'Evan', np.nan, 'Fred'])\n",
    "df"
   ]
  },
  {
   "cell_type": "code",
   "execution_count": 18,
   "metadata": {},
   "outputs": [
    {
     "data": {
      "text/plain": [
       "0    Amanda\n",
       "1       Bob\n",
       "2    Claire\n",
       "3     Devon\n",
       "4      Evan\n",
       "5      <NA>\n",
       "6      Fred\n",
       "dtype: string"
      ]
     },
     "execution_count": 18,
     "metadata": {},
     "output_type": "execute_result"
    }
   ],
   "source": [
    "# We can change the dtype after creation of dataframe\n",
    "df.astype('string')"
   ]
  },
  {
   "cell_type": "markdown",
   "metadata": {},
   "source": [
    "### Splitting\n",
    "Splitting is as the name suggests, it gives us power to split a data frame depending on the desired outcome.  \n",
    "There are many applications of splitting (splitting by rows, splitting a df into smaller df's...), below is a quick example of splitting a text column into 2 columns."
   ]
  },
  {
   "cell_type": "code",
   "execution_count": 20,
   "metadata": {},
   "outputs": [
    {
     "data": {
      "text/html": [
       "<div>\n",
       "<style scoped>\n",
       "    .dataframe tbody tr th:only-of-type {\n",
       "        vertical-align: middle;\n",
       "    }\n",
       "\n",
       "    .dataframe tbody tr th {\n",
       "        vertical-align: top;\n",
       "    }\n",
       "\n",
       "    .dataframe thead th {\n",
       "        text-align: right;\n",
       "    }\n",
       "</style>\n",
       "<table border=\"1\" class=\"dataframe\">\n",
       "  <thead>\n",
       "    <tr style=\"text-align: right;\">\n",
       "      <th></th>\n",
       "      <th>Name</th>\n",
       "      <th>Age</th>\n",
       "    </tr>\n",
       "  </thead>\n",
       "  <tbody>\n",
       "    <tr>\n",
       "      <th>0</th>\n",
       "      <td>Peter Parker</td>\n",
       "      <td>32</td>\n",
       "    </tr>\n",
       "    <tr>\n",
       "      <th>1</th>\n",
       "      <td>Bruce Wayne</td>\n",
       "      <td>34</td>\n",
       "    </tr>\n",
       "    <tr>\n",
       "      <th>2</th>\n",
       "      <td>Clark Kent</td>\n",
       "      <td>36</td>\n",
       "    </tr>\n",
       "  </tbody>\n",
       "</table>\n",
       "</div>"
      ],
      "text/plain": [
       "           Name  Age\n",
       "0  Peter Parker   32\n",
       "1   Bruce Wayne   34\n",
       "2    Clark Kent   36"
      ]
     },
     "execution_count": 20,
     "metadata": {},
     "output_type": "execute_result"
    }
   ],
   "source": [
    "# import Pandas as pd\n",
    "import pandas as pd\n",
    "\n",
    "# create a new data frame\n",
    "df = pd.DataFrame({'Name': ['Peter Parker', 'Bruce Wayne', 'Clark Kent'],\n",
    "\t\t\t\t'Age':[32, 34, 36]})\n",
    "\n",
    "df"
   ]
  },
  {
   "cell_type": "code",
   "execution_count": 24,
   "metadata": {},
   "outputs": [
    {
     "data": {
      "text/html": [
       "<div>\n",
       "<style scoped>\n",
       "    .dataframe tbody tr th:only-of-type {\n",
       "        vertical-align: middle;\n",
       "    }\n",
       "\n",
       "    .dataframe tbody tr th {\n",
       "        vertical-align: top;\n",
       "    }\n",
       "\n",
       "    .dataframe thead th {\n",
       "        text-align: right;\n",
       "    }\n",
       "</style>\n",
       "<table border=\"1\" class=\"dataframe\">\n",
       "  <thead>\n",
       "    <tr style=\"text-align: right;\">\n",
       "      <th></th>\n",
       "      <th>Name</th>\n",
       "      <th>Age</th>\n",
       "      <th>First</th>\n",
       "      <th>Last</th>\n",
       "    </tr>\n",
       "  </thead>\n",
       "  <tbody>\n",
       "    <tr>\n",
       "      <th>0</th>\n",
       "      <td>Peter Parker</td>\n",
       "      <td>32</td>\n",
       "      <td>Peter</td>\n",
       "      <td>Parker</td>\n",
       "    </tr>\n",
       "    <tr>\n",
       "      <th>1</th>\n",
       "      <td>Bruce Wayne</td>\n",
       "      <td>34</td>\n",
       "      <td>Bruce</td>\n",
       "      <td>Wayne</td>\n",
       "    </tr>\n",
       "    <tr>\n",
       "      <th>2</th>\n",
       "      <td>Clark Kent</td>\n",
       "      <td>36</td>\n",
       "      <td>Clark</td>\n",
       "      <td>Kent</td>\n",
       "    </tr>\n",
       "  </tbody>\n",
       "</table>\n",
       "</div>"
      ],
      "text/plain": [
       "           Name  Age  First    Last\n",
       "0  Peter Parker   32  Peter  Parker\n",
       "1   Bruce Wayne   34  Bruce   Wayne\n",
       "2    Clark Kent   36  Clark    Kent"
      ]
     },
     "execution_count": 24,
     "metadata": {},
     "output_type": "execute_result"
    }
   ],
   "source": [
    "# Adding 2 new columns by splitting up Name\n",
    "# by default splitting is done on the basis of single space.\n",
    "# Naming new columns First and Last\n",
    "df[['First','Last']] = df.Name.str.split(expand=True)\n",
    "df"
   ]
  },
  {
   "cell_type": "code",
   "execution_count": 27,
   "metadata": {},
   "outputs": [
    {
     "data": {
      "text/html": [
       "<div>\n",
       "<style scoped>\n",
       "    .dataframe tbody tr th:only-of-type {\n",
       "        vertical-align: middle;\n",
       "    }\n",
       "\n",
       "    .dataframe tbody tr th {\n",
       "        vertical-align: top;\n",
       "    }\n",
       "\n",
       "    .dataframe thead th {\n",
       "        text-align: right;\n",
       "    }\n",
       "</style>\n",
       "<table border=\"1\" class=\"dataframe\">\n",
       "  <thead>\n",
       "    <tr style=\"text-align: right;\">\n",
       "      <th></th>\n",
       "      <th>0</th>\n",
       "      <th>1</th>\n",
       "    </tr>\n",
       "  </thead>\n",
       "  <tbody>\n",
       "    <tr>\n",
       "      <th>0</th>\n",
       "      <td>Peter</td>\n",
       "      <td>Parker</td>\n",
       "    </tr>\n",
       "    <tr>\n",
       "      <th>1</th>\n",
       "      <td>Bruce</td>\n",
       "      <td>Wayne</td>\n",
       "    </tr>\n",
       "    <tr>\n",
       "      <th>2</th>\n",
       "      <td>Clark</td>\n",
       "      <td>Kent</td>\n",
       "    </tr>\n",
       "  </tbody>\n",
       "</table>\n",
       "</div>"
      ],
      "text/plain": [
       "       0       1\n",
       "0  Peter  Parker\n",
       "1  Bruce   Wayne\n",
       "2  Clark    Kent"
      ]
     },
     "execution_count": 27,
     "metadata": {},
     "output_type": "execute_result"
    }
   ],
   "source": [
    "df.Name.apply(lambda x: pd.Series(str(x).split()))"
   ]
  },
  {
   "cell_type": "markdown",
   "metadata": {},
   "source": [
    "### Regular Expressions\n",
    "Regular expressions (regex) are essentially text patterns that you can use to automate searching through and replacing elements within strings of text. This can make cleaning and working with text-based data sets much easier, saving you the trouble of having to search through mountains of text by hand."
   ]
  },
  {
   "cell_type": "code",
   "execution_count": 30,
   "metadata": {},
   "outputs": [
    {
     "data": {
      "text/html": [
       "<div>\n",
       "<style scoped>\n",
       "    .dataframe tbody tr th:only-of-type {\n",
       "        vertical-align: middle;\n",
       "    }\n",
       "\n",
       "    .dataframe tbody tr th {\n",
       "        vertical-align: top;\n",
       "    }\n",
       "\n",
       "    .dataframe thead th {\n",
       "        text-align: right;\n",
       "    }\n",
       "</style>\n",
       "<table border=\"1\" class=\"dataframe\">\n",
       "  <thead>\n",
       "    <tr style=\"text-align: right;\">\n",
       "      <th></th>\n",
       "      <th>City</th>\n",
       "      <th>Event</th>\n",
       "      <th>Cost</th>\n",
       "    </tr>\n",
       "  </thead>\n",
       "  <tbody>\n",
       "    <tr>\n",
       "      <th>0</th>\n",
       "      <td>New York (City)</td>\n",
       "      <td>Music</td>\n",
       "      <td>10000</td>\n",
       "    </tr>\n",
       "    <tr>\n",
       "      <th>1</th>\n",
       "      <td>Parague</td>\n",
       "      <td>Poetry</td>\n",
       "      <td>5000</td>\n",
       "    </tr>\n",
       "    <tr>\n",
       "      <th>2</th>\n",
       "      <td>New Delhi (Delhi)</td>\n",
       "      <td>Theatre</td>\n",
       "      <td>15000</td>\n",
       "    </tr>\n",
       "    <tr>\n",
       "      <th>3</th>\n",
       "      <td>Venice</td>\n",
       "      <td>Comedy</td>\n",
       "      <td>2000</td>\n",
       "    </tr>\n",
       "    <tr>\n",
       "      <th>4</th>\n",
       "      <td>new Orleans</td>\n",
       "      <td>Tech_Summit</td>\n",
       "      <td>12000</td>\n",
       "    </tr>\n",
       "  </tbody>\n",
       "</table>\n",
       "</div>"
      ],
      "text/plain": [
       "                City        Event   Cost\n",
       "0    New York (City)        Music  10000\n",
       "1            Parague       Poetry   5000\n",
       "2  New Delhi (Delhi)      Theatre  15000\n",
       "3             Venice       Comedy   2000\n",
       "4        new Orleans  Tech_Summit  12000"
      ]
     },
     "execution_count": 30,
     "metadata": {},
     "output_type": "execute_result"
    }
   ],
   "source": [
    "# importing pandas as pd\n",
    "import pandas as pd\n",
    "  \n",
    "# Create a Dataframe\n",
    "df = pd.DataFrame({'City':['New York (City)', 'Parague', 'New Delhi (Delhi)', 'Venice', 'new Orleans'],\n",
    "                    'Event':['Music', 'Poetry', 'Theatre', 'Comedy', 'Tech_Summit'],\n",
    "                    'Cost':[10000, 5000, 15000, 2000, 12000]})\n",
    "  \n",
    "df"
   ]
  },
  {
   "cell_type": "code",
   "execution_count": 31,
   "metadata": {},
   "outputs": [
    {
     "data": {
      "text/html": [
       "<div>\n",
       "<style scoped>\n",
       "    .dataframe tbody tr th:only-of-type {\n",
       "        vertical-align: middle;\n",
       "    }\n",
       "\n",
       "    .dataframe tbody tr th {\n",
       "        vertical-align: top;\n",
       "    }\n",
       "\n",
       "    .dataframe thead th {\n",
       "        text-align: right;\n",
       "    }\n",
       "</style>\n",
       "<table border=\"1\" class=\"dataframe\">\n",
       "  <thead>\n",
       "    <tr style=\"text-align: right;\">\n",
       "      <th></th>\n",
       "      <th>City</th>\n",
       "      <th>Event</th>\n",
       "      <th>Cost</th>\n",
       "    </tr>\n",
       "  </thead>\n",
       "  <tbody>\n",
       "    <tr>\n",
       "      <th>0</th>\n",
       "      <td>New York</td>\n",
       "      <td>Music</td>\n",
       "      <td>10000</td>\n",
       "    </tr>\n",
       "    <tr>\n",
       "      <th>1</th>\n",
       "      <td>Parague</td>\n",
       "      <td>Poetry</td>\n",
       "      <td>5000</td>\n",
       "    </tr>\n",
       "    <tr>\n",
       "      <th>2</th>\n",
       "      <td>New Delhi</td>\n",
       "      <td>Theatre</td>\n",
       "      <td>15000</td>\n",
       "    </tr>\n",
       "    <tr>\n",
       "      <th>3</th>\n",
       "      <td>Venice</td>\n",
       "      <td>Comedy</td>\n",
       "      <td>2000</td>\n",
       "    </tr>\n",
       "    <tr>\n",
       "      <th>4</th>\n",
       "      <td>new Orleans</td>\n",
       "      <td>Tech_Summit</td>\n",
       "      <td>12000</td>\n",
       "    </tr>\n",
       "  </tbody>\n",
       "</table>\n",
       "</div>"
      ],
      "text/plain": [
       "          City        Event   Cost\n",
       "0    New York         Music  10000\n",
       "1      Parague       Poetry   5000\n",
       "2   New Delhi       Theatre  15000\n",
       "3       Venice       Comedy   2000\n",
       "4  new Orleans  Tech_Summit  12000"
      ]
     },
     "execution_count": 31,
     "metadata": {},
     "output_type": "execute_result"
    }
   ],
   "source": [
    "# Importing re package for using regular expressions\n",
    "import re\n",
    "\n",
    "# Function to clean the names\n",
    "def Clean_names(City_name):\n",
    "\t# Search for opening bracket in the name followed by\n",
    "\t# any characters repeated any number of times\n",
    "\tif re.search('\\(.*', City_name):\n",
    "\n",
    "\t\t# Extract the position of beginning of pattern\n",
    "\t\tpos = re.search('\\(.*', City_name).start()\n",
    "\n",
    "\t\t# return the cleaned name\n",
    "\t\treturn City_name[:pos]\n",
    "\n",
    "\telse:\n",
    "\t\t# if clean up needed return the same name\n",
    "\t\treturn City_name\n",
    "\t\t\n",
    "# Updated the city columns\n",
    "df['City'] = df['City'].apply(Clean_names)\n",
    "\n",
    "# Print the updated dataframe\n",
    "df"
   ]
  },
  {
   "cell_type": "markdown",
   "metadata": {},
   "source": [
    "## The Pros and Cons of Tidy Data\n",
    "\n",
    "\n",
    "If you’ve read this far and are sitting there questioning why you would want a long table instead of a wide excel table where all column headers can be seen, well, the short answer is that not all data needs to be tidy. As Marie Kondo says, “If it sparks joy, keep it with confidence”. Both tidy and messy data are useful. Choose the format that makes analysis easier. Tidy data is simply another tool to keep sharp, so that when it is needed, you can put it to good use. \n",
    "\n",
    "\n",
    "| Advantages of Tidy Data | Advantages of Messy Data|\n",
    "| --- | --- |\n",
    "| Because tidy data is a standard way of structuring a dataset, it is easy for an analyst or a computer to extract needed variables. | Efficient storage for completely crossed designs which can lead to efficient computation if desired operations can be expressed as matric operations.|\n",
    "| Many analysis operations, including all aggregation functions, involve all of the values in a variable. | Presentation|\n",
    "|  | Easier data capturing|\n",
    "\n",
    "\n",
    "## Where to go from here:\n",
    "-\tDownload the repo\n",
    "-   Read through Hadley Wickham’s paper on Tidy data. While this post has summarized some of the paper, going through the examples will help you hugely when working through the exercises. \n",
    "-\tGo through ‘README’ carefully and use the extra resources on pandas as needed.\n",
    "-\tExercises 1 through to 4b, gradually provide you with less and less scaffolding, work in each notebook to try and create tidy data sets. To check your answers, use the solutions file. \n",
    "-\tHave fun bringing joy to your data sets! "
   ]
  }
 ],
 "metadata": {
  "interpreter": {
   "hash": "514e0f363cdb3b5798a927d67b4eddf32dc30f1443d7d5f9d49b93af2d9684cb"
  },
  "kernelspec": {
   "display_name": "Python 3.8.10 ('.venv': poetry)",
   "language": "python",
   "name": "python3"
  },
  "language_info": {
   "codemirror_mode": {
    "name": "ipython",
    "version": 3
   },
   "file_extension": ".py",
   "mimetype": "text/x-python",
   "name": "python",
   "nbconvert_exporter": "python",
   "pygments_lexer": "ipython3",
   "version": "3.8.10"
  },
  "orig_nbformat": 4
 },
 "nbformat": 4,
 "nbformat_minor": 2
}
